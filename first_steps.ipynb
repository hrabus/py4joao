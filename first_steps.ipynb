{
  "nbformat": 4,
  "nbformat_minor": 0,
  "metadata": {
    "colab": {
      "name": "Untitled0.ipynb",
      "provenance": [],
      "collapsed_sections": [],
      "authorship_tag": "ABX9TyOhhzeTSyI0GLaduwinkwCM",
      "include_colab_link": true
    },
    "kernelspec": {
      "name": "python3",
      "display_name": "Python 3"
    },
    "language_info": {
      "name": "python"
    }
  },
  "cells": [
    {
      "cell_type": "markdown",
      "metadata": {
        "id": "view-in-github",
        "colab_type": "text"
      },
      "source": [
        "<a href=\"https://colab.research.google.com/github/hrabus/py4joao/blob/main/first_steps.ipynb\" target=\"_parent\"><img src=\"https://colab.research.google.com/assets/colab-badge.svg\" alt=\"Open In Colab\"/></a>"
      ]
    },
    {
      "cell_type": "markdown",
      "source": [
        "Test Colab notebook\n"
      ],
      "metadata": {
        "id": "4uPS8XQDxzRZ"
      }
    },
    {
      "cell_type": "code",
      "execution_count": 1,
      "metadata": {
        "id": "U0PStp8rxmqL"
      },
      "outputs": [],
      "source": [
        "import numpy as np\n",
        "import tensorflow as tf"
      ]
    },
    {
      "cell_type": "markdown",
      "source": [
        "Set the test values"
      ],
      "metadata": {
        "id": "Okz2xOwAzKMF"
      }
    },
    {
      "cell_type": "code",
      "source": [
        "mue_min = 0. \n",
        "mue_max = 0.7\n",
        "mue_step = 0.01\n",
        "n_cells_per_sample = 1000\n",
        "n_training_samples = 12"
      ],
      "metadata": {
        "id": "-XYSe2nPzYTO"
      },
      "execution_count": 2,
      "outputs": []
    },
    {
      "cell_type": "markdown",
      "source": [
        "Now let's get ground truth data."
      ],
      "metadata": {
        "id": "7q0vAL5Nzd0j"
      }
    },
    {
      "cell_type": "code",
      "source": [
        "n_mue_vals = np.int_(np.round((mue_max-mue_min)/mue_step))\n",
        "#\n",
        "mue_values = np.random.uniform(mue_min, mue_max, n_training_samples)\n",
        "# mue_values = np.sort(mue_values)\n",
        "ground_truth = np.int_((mue_values-mue_min)/mue_step)\n",
        "print(ground_truth, n_mue_vals)"
      ],
      "metadata": {
        "colab": {
          "base_uri": "https://localhost:8080/"
        },
        "id": "kgQ-ySxTzgRV",
        "outputId": "92788521-657c-4d36-e5d5-197b71aad7f0"
      },
      "execution_count": 3,
      "outputs": [
        {
          "output_type": "stream",
          "name": "stdout",
          "text": [
            "[48 27 10 47 39  6 18 60 69 24 41 12] 70\n"
          ]
        }
      ]
    },
    {
      "cell_type": "markdown",
      "source": [
        "And next sample the distributions of foci in a 1000-cells ensemble"
      ],
      "metadata": {
        "id": "eELtiyk_zlUb"
      }
    },
    {
      "cell_type": "code",
      "source": [
        "the_sample = np.random.ranf((n_training_samples, n_cells_per_sample))  # floating point randoms between 0. and 1."
      ],
      "metadata": {
        "id": "EEELVIBrzoED"
      },
      "execution_count": 4,
      "outputs": []
    },
    {
      "cell_type": "markdown",
      "source": [
        ""
      ],
      "metadata": {
        "id": "Av-Ig-itz1wt"
      }
    }
  ]
}